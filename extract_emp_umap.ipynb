{
 "cells": [
  {
   "cell_type": "code",
   "execution_count": 4,
   "metadata": {},
   "outputs": [],
   "source": [
    "import pickle as pkl\n",
    "\n",
    "umap = pkl.load(open(\"bigdata/umap_1907_EMPv2_INN_GNPS.mgf.pkl\", \"rb\"))"
   ]
  },
  {
   "cell_type": "code",
   "execution_count": 13,
   "metadata": {},
   "outputs": [],
   "source": [
    "X, bins, names = pkl.load(open(\"bigdata/sparse_filtered_1907_EMPv2_INN_GNPS.mgf.pkl\", \"rb\"))"
   ]
  },
  {
   "cell_type": "code",
   "execution_count": 22,
   "metadata": {},
   "outputs": [],
   "source": [
    "import pandas as pd\n",
    "\n",
    "uemb = pd.DataFrame(umap.embedding_, columns = [\"UMAP1\", \"UMAP2\"])\n",
    "uemb['ID'] = names\n",
    "uemb.to_csv(\"bigdata/emp_umap_embedding.csv\", index = False)"
   ]
  },
  {
   "cell_type": "code",
   "execution_count": 21,
   "metadata": {},
   "outputs": [
    {
     "data": {
      "text/plain": [
       "<bound method NDFrame.head of           UMAP1      UMAP2     ID\n",
       "0      1.237958   1.687902      1\n",
       "1     -4.727634  -2.950058      2\n",
       "2     -7.712078   4.883822      3\n",
       "3     -4.724084  -2.939572      4\n",
       "4     -4.687323  -2.886106      5\n",
       "...         ...        ...    ...\n",
       "57333 -4.106663 -11.330395  58031\n",
       "57334  1.051632   1.968068  58033\n",
       "57335 -3.717171  -9.145136  58034\n",
       "57336  4.402997   5.234636  58035\n",
       "57337  2.886918   3.742435  58036\n",
       "\n",
       "[57338 rows x 3 columns]>"
      ]
     },
     "execution_count": 21,
     "metadata": {},
     "output_type": "execute_result"
    }
   ],
   "source": [
    "uemb.head"
   ]
  },
  {
   "cell_type": "code",
   "execution_count": null,
   "metadata": {},
   "outputs": [],
   "source": []
  }
 ],
 "metadata": {
  "kernelspec": {
   "display_name": "Python 3",
   "language": "python",
   "name": "python3"
  },
  "language_info": {
   "codemirror_mode": {
    "name": "ipython",
    "version": 3
   },
   "file_extension": ".py",
   "mimetype": "text/x-python",
   "name": "python",
   "nbconvert_exporter": "python",
   "pygments_lexer": "ipython3",
   "version": "3.7.6"
  }
 },
 "nbformat": 4,
 "nbformat_minor": 4
}
