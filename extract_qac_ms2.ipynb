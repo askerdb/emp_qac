{
 "cells": [
  {
   "cell_type": "code",
   "execution_count": 1,
   "metadata": {},
   "outputs": [],
   "source": [
    "#Read the EMP FBMN mgf file\n",
    "from pyteomics.mgf import MGF\n",
    "mgf = MGF(\"bigdata/1907_EMPv2_INN_GNPS_derep_format.mgf\")\n"
   ]
  },
  {
   "cell_type": "code",
   "execution_count": 2,
   "metadata": {},
   "outputs": [
    {
     "data": {
      "text/plain": [
       "223"
      ]
     },
     "execution_count": 2,
     "metadata": {},
     "output_type": "execute_result"
    }
   ],
   "source": [
    "#Get the QAC spectra\n",
    "import pandas as pd\n",
    "mgf.reset()\n",
    "fmeta = pd.read_csv(\"fmeta_qac_id.csv\")\n",
    "qac_ms2 = [x for x in mgf if x['params']['scans'] in list(map(str, fmeta[\"X.featureID\"].values.tolist()))]\n",
    "len(qac_ms2)"
   ]
  },
  {
   "cell_type": "code",
   "execution_count": 3,
   "metadata": {},
   "outputs": [],
   "source": [
    "def match_ppm(needle, haystack):\n",
    "    if abs((needle - haystack)/needle*10**6) < 10:\n",
    "        return(True)\n",
    "    else:\n",
    "        return False"
   ]
  },
  {
   "cell_type": "code",
   "execution_count": 5,
   "metadata": {},
   "outputs": [
    {
     "data": {
      "text/plain": [
       "True"
      ]
     },
     "execution_count": 5,
     "metadata": {},
     "output_type": "execute_result"
    }
   ],
   "source": [
    "match_ppm(60.08, 60.0801)"
   ]
  },
  {
   "cell_type": "code",
   "execution_count": 99,
   "metadata": {},
   "outputs": [],
   "source": [
    "#Write QAC spectra in long table format\n",
    "out = open('qac_ms2.txt',\"w\")\n",
    "out.write(\"Scan Mz Intensity\\n\")\n",
    "for s in qac_ms2:\n",
    "    si = s['intensity array']/s['intensity array'].sum() \n",
    "    si = si[si > 1/100] \n",
    "    for m, i in zip(s['m/z array'], si):\n",
    "        out.write(\"%s %s %s\\n\" % (s['params']['scans'], m,i) )\n",
    "out.close()"
   ]
  },
  {
   "cell_type": "code",
   "execution_count": 15,
   "metadata": {},
   "outputs": [],
   "source": [
    "#Write likely QAC (based on the 60.08 fragment) in long format\n",
    "mgf.reset()\n",
    "out = open('qac_ms2_fragment.txt',\"w\")\n",
    "out.write(\"Scan Mz Intensity\\n\")\n",
    "fragments = []\n",
    "for s in mgf:\n",
    "    si = s['intensity array']/s['intensity array'].sum() \n",
    "    si = si[si > 1/10] \n",
    "    for m in s['m/z array']:\n",
    "        if  match_ppm(60.0808, m):\n",
    "            fragments.append(s)\n",
    "            for m, i in zip(s['m/z array'], si):\n",
    "                out.write(\"%s %s %s\\n\" % (s['params']['scans'], m,i) )\n",
    "            continue\n",
    "    \n",
    "out.close()"
   ]
  },
  {
   "cell_type": "code",
   "execution_count": 16,
   "metadata": {},
   "outputs": [
    {
     "data": {
      "text/plain": [
       "2844"
      ]
     },
     "execution_count": 16,
     "metadata": {},
     "output_type": "execute_result"
    }
   ],
   "source": [
    "len(fragments) # or"
   ]
  },
  {
   "cell_type": "code",
   "execution_count": 137,
   "metadata": {},
   "outputs": [
    {
     "name": "stdout",
     "output_type": "stream",
     "text": [
      "223 3097\n"
     ]
    }
   ],
   "source": [
    "qacf_scans = [x['params']['scans'] for x in fragments]\n",
    "qac_scans = [x['params']['scans'] for x in qac_ms2]\n",
    "print(len(qac_scans), len(qacf_scans))"
   ]
  },
  {
   "cell_type": "code",
   "execution_count": 140,
   "metadata": {},
   "outputs": [],
   "source": [
    "from networkx import read_graphml, write_graphml\n",
    "G = read_graphml(\"bigdata/FEATURE-BASED-MOLECULAR-NETWORKING-3381f4f4-download_cytoscape_data-main.graphml\")"
   ]
  },
  {
   "cell_type": "code",
   "execution_count": 148,
   "metadata": {},
   "outputs": [],
   "source": [
    "flatten = lambda t: [item for sublist in t for item in sublist]\n",
    "Gqac = G.subgraph(qac_scans)\n",
    "Gqacf = G.subgraph(qacf_scans)\n",
    "Gqac_neighbours = G.subgraph(flatten([G.neighbors(x) for x in qac_scans]))\n",
    "for n in Gqac_neighbours:\n",
    "    if n in qac_scans:\n",
    "        G.nodes[n][\"QAC_label\"] = \"QAC\"\n",
    "    else:\n",
    "        G.nodes[n][\"QAC_label\"] = \"Neighbour\"\n",
    "\n",
    "write_graphml(Gqac, \"qac.graphml\")\n",
    "write_graphml(Gqac_neighbours, \"Gqac_neighbours.graphml\")"
   ]
  },
  {
   "cell_type": "code",
   "execution_count": 145,
   "metadata": {},
   "outputs": [
    {
     "data": {
      "text/plain": [
       "['40274']"
      ]
     },
     "execution_count": 145,
     "metadata": {},
     "output_type": "execute_result"
    }
   ],
   "source": [
    "[x for x in G.neighbors(qac_scans[1])]"
   ]
  },
  {
   "cell_type": "code",
   "execution_count": 157,
   "metadata": {},
   "outputs": [],
   "source": [
    "mgf.reset()\n",
    "out = open('tpl_fragments.txt',\"w\")\n",
    "out.write(\"Scan Mz Intensity\\n\")\n",
    "fragments = []\n",
    "for s in mgf:\n",
    "    si = s['intensity array']/s['intensity array'].sum() \n",
    "    si = si[si > 1/10] \n",
    "    for m in s['m/z array']:\n",
    "        if m > 119.99 and m < 197.01:\n",
    "            fragments.append(s)\n",
    "            for m, i in zip(s['m/z array'], si):\n",
    "                out.write(\"%s %s %s %s\\n\" % (s['params']['scans'], m,i, s['params']['pepmass'][0] ) )\n",
    "            continue\n",
    "    \n",
    "out.close()"
   ]
  },
  {
   "cell_type": "code",
   "execution_count": 154,
   "metadata": {},
   "outputs": [
    {
     "data": {
      "text/plain": [
       "68"
      ]
     },
     "execution_count": 154,
     "metadata": {},
     "output_type": "execute_result"
    }
   ],
   "source": [
    "len(fragments)"
   ]
  },
  {
   "cell_type": "code",
   "execution_count": 161,
   "metadata": {},
   "outputs": [
    {
     "data": {
      "text/plain": [
       "[{'params': {'feature_id': '42755',\n",
       "   'pepmass': (385.9245, None),\n",
       "   'corr_groupid': '306',\n",
       "   'scans': '42755',\n",
       "   'rtinseconds': 157.363 second,\n",
       "   'charge': [1],\n",
       "   'mslevel': '2'},\n",
       "  'm/z array': array([ 51.613 ,  52.4764,  53.9042,  58.6963,  60.056 ,  61.2561,\n",
       "          76.1206,  78.6495,  80.472 ,  86.035 ,  96.0554, 120.0553,\n",
       "         137.0817, 182.3574, 185.0581, 185.0817, 186.0659, 188.069 ,\n",
       "         200.0663, 200.0931, 201.0767, 211.0605, 226.0723, 227.0798,\n",
       "         228.0878, 246.0978, 250.9679, 254.9773, 262.9919, 263.9764,\n",
       "         264.0003, 264.9831, 277.9793, 278.9869, 283.1467, 289.9792,\n",
       "         305.9982, 307.0059, 326.8759, 327.8822, 342.2198, 342.9169,\n",
       "         343.903 , 356.8976, 356.9424, 368.8989, 374.908 , 385.9241,\n",
       "         386.1796, 386.908 , 391.6662]),\n",
       "  'intensity array': array([  2300.,   2000.,   2400.,   2200.,  17000.,   2000.,   2400.,\n",
       "           2000.,   2400.,  17000.,   6500.,  10000.,  15000.,   2500.,\n",
       "          11000.,  11000.,  68000.,   6100.,   2900.,  17000., 100000.,\n",
       "           6600.,  17000.,   9500., 250000.,  11000.,   5600.,   3500.,\n",
       "          12000., 210000.,  12000.,   4800.,  68000.,   3500.,   2800.,\n",
       "           6100., 260000., 160000.,  52000.,   8200.,   3700.,   6300.,\n",
       "          12000., 110000.,   5900.,  21000.,   6400., 210000.,   6900.,\n",
       "          26000.,   2800.]),\n",
       "  'charge array': masked_array(data=[--, --, --, --, --, --, --, --, --, --, --, --, --, --,\n",
       "                     --, --, --, --, --, --, --, --, --, --, --, --, --, --,\n",
       "                     --, --, --, --, --, --, --, --, --, --, --, --, --, --,\n",
       "                     --, --, --, --, --, --, --, --, --],\n",
       "               mask=[ True,  True,  True,  True,  True,  True,  True,  True,\n",
       "                      True,  True,  True,  True,  True,  True,  True,  True,\n",
       "                      True,  True,  True,  True,  True,  True,  True,  True,\n",
       "                      True,  True,  True,  True,  True,  True,  True,  True,\n",
       "                      True,  True,  True,  True,  True,  True,  True,  True,\n",
       "                      True,  True,  True,  True,  True,  True,  True,  True,\n",
       "                      True,  True,  True],\n",
       "         fill_value=0,\n",
       "              dtype=int64)},\n",
       " {'params': {'feature_id': '43031',\n",
       "   'pepmass': (385.9246, None),\n",
       "   'corr_groupid': '373',\n",
       "   'scans': '43031',\n",
       "   'rtinseconds': 166.209 second,\n",
       "   'charge': [1],\n",
       "   'mslevel': '2'},\n",
       "  'm/z array': array([ 60.0559,  70.0654,  72.081 ,  74.0602,  84.081 ,  86.0965,\n",
       "          87.0996,  96.1196,  98.7596, 108.0579, 116.0701, 120.0553,\n",
       "         120.0806, 129.1024, 134.909 , 137.082 , 159.2846, 171.0672,\n",
       "         186.0658, 198.761 , 211.0614, 226.0718, 227.0802, 228.0877,\n",
       "         247.9595, 263.9773, 277.9803, 305.9983, 307.0061, 326.8763,\n",
       "         385.9235]),\n",
       "  'intensity array': array([ 1700.,  2800.,  1200.,  1200.,  1600.,  4600.,  1300.,  1000.,\n",
       "          1000.,  1000.,  1200.,  1200.,  1400.,  1000.,  1200.,  2700.,\n",
       "          1400.,  1200.,  1300.,  1100.,  3100.,  2200.,  2100.,  5600.,\n",
       "          2800.,  3600.,  1300.,  6200.,  7400., 46000.,  3900.]),\n",
       "  'charge array': masked_array(data=[--, --, --, --, --, --, --, --, --, --, --, --, --, --,\n",
       "                     --, --, --, --, --, --, --, --, --, --, --, --, --, --,\n",
       "                     --, --, --],\n",
       "               mask=[ True,  True,  True,  True,  True,  True,  True,  True,\n",
       "                      True,  True,  True,  True,  True,  True,  True,  True,\n",
       "                      True,  True,  True,  True,  True,  True,  True,  True,\n",
       "                      True,  True,  True,  True,  True,  True,  True],\n",
       "         fill_value=0,\n",
       "              dtype=int64)},\n",
       " {'params': {'feature_id': '43235',\n",
       "   'pepmass': (385.9247, None),\n",
       "   'corr_groupid': '583',\n",
       "   'scans': '43235',\n",
       "   'rtinseconds': 213.515 second,\n",
       "   'charge': [1],\n",
       "   'mslevel': '2'},\n",
       "  'm/z array': array([ 57.1889,  58.0656,  59.4584,  68.0499,  69.045 ,  70.6639,\n",
       "          81.0448,  83.0602,  84.0556,  86.0964,  95.0604,  96.0555,\n",
       "          97.0636, 110.0711, 120.0555, 124.0505, 133.525 , 135.0666,\n",
       "         136.0507, 137.0821, 138.066 , 140.9447, 183.9624, 194.4763,\n",
       "         197.1176, 199.086 , 201.0453, 211.958 , 214.0552, 228.9667,\n",
       "         264.0013, 274.8806, 290.8759, 302.8763, 307.0054, 333.9436,\n",
       "         335.9409, 385.9244, 386.2674, 386.3228]),\n",
       "  'intensity array': array([   2500.,   13000.,    2700.,    2800.,   27000.,    3400.,\n",
       "           10000.,    4100.,   10000.,   21000.,    6800., 2200000.,\n",
       "            3600.,   37000.,   14000.,   15000.,    4100.,    7600.,\n",
       "            5600.,   66000.,  190000.,    3200.,    3200.,    4000.,\n",
       "            3400.,    3700.,    4800.,   29000.,    3300.,    3500.,\n",
       "            5000.,    3600.,   97000.,   44000.,   22000.,   17000.,\n",
       "            7700.,  140000.,    5400.,    3100.]),\n",
       "  'charge array': masked_array(data=[--, --, --, --, --, --, --, --, --, --, --, --, --, --,\n",
       "                     --, --, --, --, --, --, --, --, --, --, --, --, --, --,\n",
       "                     --, --, --, --, --, --, --, --, --, --, --, --],\n",
       "               mask=[ True,  True,  True,  True,  True,  True,  True,  True,\n",
       "                      True,  True,  True,  True,  True,  True,  True,  True,\n",
       "                      True,  True,  True,  True,  True,  True,  True,  True,\n",
       "                      True,  True,  True,  True,  True,  True,  True,  True,\n",
       "                      True,  True,  True,  True,  True,  True,  True,  True],\n",
       "         fill_value=0,\n",
       "              dtype=int64)},\n",
       " {'params': {'feature_id': '44496',\n",
       "   'pepmass': (385.9251, None),\n",
       "   'scans': '44496',\n",
       "   'rtinseconds': 182.394 second,\n",
       "   'charge': [1],\n",
       "   'mslevel': '2'},\n",
       "  'm/z array': array([ 52.2485,  54.0793,  58.0656,  58.4501,  60.056 ,  61.0594,\n",
       "          63.7907,  65.3065,  68.0498,  70.0654,  71.0687,  72.0811,\n",
       "          74.6549,  84.0444,  84.0557,  84.0806,  86.0059,  86.0965,\n",
       "          87.0093,  93.0448,  94.0287,  95.0324,  95.0603,  96.0555,\n",
       "          96.0617,  97.0633,  98.0711, 100.0501, 103.1728, 108.0555,\n",
       "         110.0713, 111.0664, 112.0865, 116.0706, 120.0555, 121.0404,\n",
       "         121.0631, 122.0352, 122.0598, 122.0714, 127.0325, 129.1021,\n",
       "         135.0663, 136.0504, 136.0741, 137.0821, 138.0371, 138.0661,\n",
       "         139.0406, 148.0866, 149.0901, 151.0614, 151.0979, 152.1433,\n",
       "         153.0474, 154.0507, 154.0966, 155.0638, 156.0672, 158.0588,\n",
       "         158.0709, 160.0868, 163.0613, 164.0685, 166.097 , 170.0589,\n",
       "         171.0669, 171.9393, 172.0744, 173.0927, 181.0425, 182.0457,\n",
       "         184.0743, 185.0577, 185.0821, 186.0659, 190.159 , 191.162 ,\n",
       "         192.1732, 195.9625, 197.0846, 198.0533, 198.0885, 199.0612,\n",
       "         199.0847, 201.077 , 214.1115, 215.1144, 217.1086, 222.1438,\n",
       "         224.0683, 224.6151, 226.0719, 227.0801, 228.0878, 229.1205,\n",
       "         233.6195, 233.9666, 234.2433, 240.9952, 246.0971, 248.9769,\n",
       "         249.8502, 249.9606, 249.9849, 250.9682, 250.9917, 251.8467,\n",
       "         254.8486, 260.9765, 262.9931, 263.9763, 264.0013, 264.9723,\n",
       "         265.9791, 276.9717, 277.9796, 278.0102, 278.9882, 286.8818,\n",
       "         287.8902, 287.9875, 288.9716, 289.9796, 302.8768, 305.9983,\n",
       "         307.0066, 314.8766, 325.8919, 325.997 , 326.8759, 326.9992,\n",
       "         328.9002, 329.9162, 342.919 , 343.903 , 344.0257, 356.8979,\n",
       "         368.3149, 368.8999, 369.0196, 377.177 , 385.9247, 386.0462,\n",
       "         386.2152, 386.3232]),\n",
       "  'intensity array': array([  1200.,   1000.,   1800.,   1100.,  24000.,   1200.,   1100.,\n",
       "           1300.,  36000.,  38000.,   8000.,   3500.,   1200.,   1700.,\n",
       "           5200.,   3400.,   6200.,   6600.,   2500.,   5100.,  57000.,\n",
       "           2800., 140000.,  59000.,   3100.,   1500.,   1300.,   1900.,\n",
       "           1300.,  17000.,  11000.,   8500.,   1400.,   3100., 150000.,\n",
       "           1600.,   1500.,   1400.,   1400.,   7500.,   2400.,   3300.,\n",
       "          11000.,   2600.,   4600., 420000.,  28000.,   5400.,  21000.,\n",
       "          12000.,   5200.,   2400.,   2800.,   1900.,   2000.,   1500.,\n",
       "           2200.,  26000.,  22000.,  19000.,   2500.,   2000.,   9200.,\n",
       "           1500.,   2100.,   7100.,   9200.,   2100.,   2300.,   2000.,\n",
       "           4600.,   5400.,   5300.,   1600.,   5600.,   4900.,   2500.,\n",
       "           1400.,   1800.,   2100.,   1900.,   9900.,   4900.,  28000.,\n",
       "           6200.,   5200.,   5300.,   7900.,   4100.,   1400.,   1600.,\n",
       "           2500.,   7300.,  19000.,  23000.,   3300.,   1700.,   1600.,\n",
       "           1600.,   1500.,   3400.,  17000.,   6000.,   7000.,  13000.,\n",
       "           3700.,   1500.,   3900.,   2000.,   1600.,   7200.,  16000.,\n",
       "           5700.,   2600.,   3400., 110000.,  71000.,   2600.,   2100.,\n",
       "           4000.,   4100.,   2100.,   2400.,   2600.,  12000., 110000.,\n",
       "          26000.,   2400.,   6100.,   1400.,   6300.,   9000.,   2000.,\n",
       "           8100.,   3300.,  19000.,   1800., 250000.,  13000.,   2600.,\n",
       "           9700.,   2700., 130000.,  49000.,   5200.,  17000.]),\n",
       "  'charge array': masked_array(data=[--, --, --, --, --, --, --, --, --, --, --, --, --, --,\n",
       "                     --, --, --, --, --, --, --, --, --, --, --, --, --, --,\n",
       "                     --, --, --, --, --, --, --, --, --, --, --, --, --, --,\n",
       "                     --, --, --, --, --, --, --, --, --, --, --, --, --, --,\n",
       "                     --, --, --, --, --, --, --, --, --, --, --, --, --, --,\n",
       "                     --, --, --, --, --, --, --, --, --, --, --, --, --, --,\n",
       "                     --, --, --, --, --, --, --, --, --, --, --, --, --, --,\n",
       "                     --, --, --, --, --, --, --, --, --, --, --, --, --, --,\n",
       "                     --, --, --, --, --, --, --, --, --, --, --, --, --, --,\n",
       "                     --, --, --, --, --, --, --, --, --, --, --, --, --, --,\n",
       "                     --, --, --, --, --, --],\n",
       "               mask=[ True,  True,  True,  True,  True,  True,  True,  True,\n",
       "                      True,  True,  True,  True,  True,  True,  True,  True,\n",
       "                      True,  True,  True,  True,  True,  True,  True,  True,\n",
       "                      True,  True,  True,  True,  True,  True,  True,  True,\n",
       "                      True,  True,  True,  True,  True,  True,  True,  True,\n",
       "                      True,  True,  True,  True,  True,  True,  True,  True,\n",
       "                      True,  True,  True,  True,  True,  True,  True,  True,\n",
       "                      True,  True,  True,  True,  True,  True,  True,  True,\n",
       "                      True,  True,  True,  True,  True,  True,  True,  True,\n",
       "                      True,  True,  True,  True,  True,  True,  True,  True,\n",
       "                      True,  True,  True,  True,  True,  True,  True,  True,\n",
       "                      True,  True,  True,  True,  True,  True,  True,  True,\n",
       "                      True,  True,  True,  True,  True,  True,  True,  True,\n",
       "                      True,  True,  True,  True,  True,  True,  True,  True,\n",
       "                      True,  True,  True,  True,  True,  True,  True,  True,\n",
       "                      True,  True,  True,  True,  True,  True,  True,  True,\n",
       "                      True,  True,  True,  True,  True,  True,  True,  True,\n",
       "                      True,  True,  True,  True,  True,  True,  True,  True,\n",
       "                      True,  True],\n",
       "         fill_value=0,\n",
       "              dtype=int64)},\n",
       " {'params': {'feature_id': '44533',\n",
       "   'pepmass': (385.9238, None),\n",
       "   'scans': '44533',\n",
       "   'rtinseconds': 132.174 second,\n",
       "   'charge': [1],\n",
       "   'mslevel': '2'},\n",
       "  'm/z array': array([ 59.2322,  81.224 , 114.8499, 120.0555, 137.0824, 171.9395,\n",
       "         186.0645, 211.0614, 219.9627, 226.0727, 227.08  , 246.0984,\n",
       "         246.5068, 247.9578, 263.9764, 264.9853, 288.9746, 306.    ,\n",
       "         307.0073, 326.876 , 385.9198]),\n",
       "  'intensity array': array([  1100.,   1100.,   1100.,   1900.,   6200.,   1800.,   1000.,\n",
       "           4900.,   1800.,   2200.,   3000.,   2100.,   1100.,   8200.,\n",
       "           3500.,   1600.,   1200.,   5100.,   8700., 120000.,   2200.]),\n",
       "  'charge array': masked_array(data=[--, --, --, --, --, --, --, --, --, --, --, --, --, --,\n",
       "                     --, --, --, --, --, --, --],\n",
       "               mask=[ True,  True,  True,  True,  True,  True,  True,  True,\n",
       "                      True,  True,  True,  True,  True,  True,  True,  True,\n",
       "                      True,  True,  True,  True,  True],\n",
       "         fill_value=0,\n",
       "              dtype=int64)},\n",
       " {'params': {'feature_id': '45939',\n",
       "   'pepmass': (385.9244, None),\n",
       "   'scans': '45939',\n",
       "   'rtinseconds': 123.051 second,\n",
       "   'charge': [1],\n",
       "   'mslevel': '2'},\n",
       "  'm/z array': array([ 60.056 ,  65.1488,  90.6279,  94.0287,  94.2633,  95.0601,\n",
       "         112.8027, 116.1083, 120.0558, 137.0821, 155.284 , 160.0503,\n",
       "         171.9385, 177.0774, 178.0601, 196.0701, 211.0616, 219.9631,\n",
       "         222.8515, 224.0675, 226.0732, 227.0799, 239.753 , 247.9579,\n",
       "         251.3369, 263.9766, 264.9841, 305.9988, 307.0062, 308.6296,\n",
       "         325.9808, 326.8761, 385.4914, 385.9203]),\n",
       "  'intensity array': array([  1600.,   1400.,   1100.,   1000.,   1100.,   1500.,   1100.,\n",
       "           1000.,   1600.,   4800.,   1100.,   2400.,   1400.,   5000.,\n",
       "           1700.,   1300.,   7300.,   1700.,   1000.,   1100.,   1900.,\n",
       "           3800.,   1300.,   9400.,   1200.,   5100.,   3000.,   6700.,\n",
       "          12000.,   1100.,   1100., 140000.,   1300.,   1300.]),\n",
       "  'charge array': masked_array(data=[--, --, --, --, --, --, --, --, --, --, --, --, --, --,\n",
       "                     --, --, --, --, --, --, --, --, --, --, --, --, --, --,\n",
       "                     --, --, --, --, --, --],\n",
       "               mask=[ True,  True,  True,  True,  True,  True,  True,  True,\n",
       "                      True,  True,  True,  True,  True,  True,  True,  True,\n",
       "                      True,  True,  True,  True,  True,  True,  True,  True,\n",
       "                      True,  True,  True,  True,  True,  True,  True,  True,\n",
       "                      True,  True],\n",
       "         fill_value=0,\n",
       "              dtype=int64)}]"
      ]
     },
     "execution_count": 161,
     "metadata": {},
     "output_type": "execute_result"
    }
   ],
   "source": [
    "mgf.reset()\n",
    "[x for x in mgf if x['params']['pepmass'][0] < 386.1 and x['params']['pepmass'][0] > 385.9] "
   ]
  },
  {
   "cell_type": "code",
   "execution_count": null,
   "metadata": {},
   "outputs": [],
   "source": []
  }
 ],
 "metadata": {
  "kernelspec": {
   "display_name": "Python 3",
   "language": "python",
   "name": "python3"
  },
  "language_info": {
   "codemirror_mode": {
    "name": "ipython",
    "version": 3
   },
   "file_extension": ".py",
   "mimetype": "text/x-python",
   "name": "python",
   "nbconvert_exporter": "python",
   "pygments_lexer": "ipython3",
   "version": "3.7.6"
  }
 },
 "nbformat": 4,
 "nbformat_minor": 4
}
